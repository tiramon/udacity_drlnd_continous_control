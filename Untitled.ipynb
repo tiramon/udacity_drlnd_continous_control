{
 "cells": [
  {
   "cell_type": "code",
   "execution_count": 1,
   "metadata": {},
   "outputs": [],
   "source": [
    "from unityagents import UnityEnvironment\n",
    "import numpy as np"
   ]
  },
  {
   "cell_type": "code",
   "execution_count": 2,
   "metadata": {},
   "outputs": [
    {
     "name": "stderr",
     "output_type": "stream",
     "text": [
      "INFO:unityagents:\n",
      "'Academy' started successfully!\n",
      "Unity Academy name: Academy\n",
      "        Number of Brains: 1\n",
      "        Number of External Brains : 1\n",
      "        Lesson number : 0\n",
      "        Reset Parameters :\n",
      "\t\tgoal_speed -> 1.0\n",
      "\t\tgoal_size -> 5.0\n",
      "Unity brain name: ReacherBrain\n",
      "        Number of Visual Observations (per agent): 0\n",
      "        Vector Observation space type: continuous\n",
      "        Vector Observation space size (per agent): 33\n",
      "        Number of stacked Vector Observation: 1\n",
      "        Vector Action space type: continuous\n",
      "        Vector Action space size (per agent): 4\n",
      "        Vector Action descriptions: , , , \n"
     ]
    }
   ],
   "source": [
    "env = UnityEnvironment(file_name='Reacher_Windows_x86_64_single/Reacher.exe',no_graphics=True)\n",
    "#,no_graphics=True"
   ]
  },
  {
   "cell_type": "code",
   "execution_count": 3,
   "metadata": {},
   "outputs": [],
   "source": [
    "# get the default brain\n",
    "brain_name = env.brain_names[0]\n",
    "brain = env.brains[brain_name]"
   ]
  },
  {
   "cell_type": "code",
   "execution_count": 4,
   "metadata": {},
   "outputs": [
    {
     "name": "stdout",
     "output_type": "stream",
     "text": [
      "Number of agents: 1\n",
      "Size of each action: 4\n",
      "There are 1 agents. Each observes a state with length: 33\n",
      "The state for the first agent looks like: [ 0.00000000e+00 -4.00000000e+00  0.00000000e+00  1.00000000e+00\n",
      " -0.00000000e+00 -0.00000000e+00 -4.37113883e-08  0.00000000e+00\n",
      "  0.00000000e+00  0.00000000e+00  0.00000000e+00  0.00000000e+00\n",
      "  0.00000000e+00  0.00000000e+00 -1.00000000e+01  0.00000000e+00\n",
      "  1.00000000e+00 -0.00000000e+00 -0.00000000e+00 -4.37113883e-08\n",
      "  0.00000000e+00  0.00000000e+00  0.00000000e+00  0.00000000e+00\n",
      "  0.00000000e+00  0.00000000e+00  5.75471878e+00 -1.00000000e+00\n",
      "  5.55726671e+00  0.00000000e+00  1.00000000e+00  0.00000000e+00\n",
      " -1.68164849e-01]\n"
     ]
    }
   ],
   "source": [
    "# reset the environment\n",
    "env_info = env.reset(train_mode=True)[brain_name]\n",
    "\n",
    "# number of agents\n",
    "num_agents = len(env_info.agents)\n",
    "print('Number of agents:', num_agents)\n",
    "\n",
    "# size of each action\n",
    "action_size = brain.vector_action_space_size\n",
    "print('Size of each action:', action_size)\n",
    "\n",
    "# examine the state space \n",
    "states = env_info.vector_observations\n",
    "state_size = states.shape[1]\n",
    "print('There are {} agents. Each observes a state with length: {}'.format(states.shape[0], state_size))\n",
    "print('The state for the first agent looks like:', states[0])"
   ]
  },
  {
   "cell_type": "code",
   "execution_count": 5,
   "metadata": {},
   "outputs": [],
   "source": [
    "from agent_ddpg import Agent\n",
    "agent = Agent(state_size, action_size, 0)\n"
   ]
  },
  {
   "cell_type": "code",
   "execution_count": null,
   "metadata": {},
   "outputs": [
    {
     "name": "stdout",
     "output_type": "stream",
     "text": [
      "Total score (averaged over agents) this episode 0: 0.5899999868124723\n",
      "Total score (averaged over agents) this episode 1: 1.1399999745190144\n",
      "Total score (averaged over agents) this episode 2: 0.24999999441206455\n",
      "Total score (averaged over agents) this episode 3: 0.5799999870359898\n",
      "Total score (averaged over agents) this episode 4: 0.2899999935179949\n",
      "Total score (averaged over agents) this episode 5: 0.6099999863654375\n",
      "Total score (averaged over agents) this episode 6: 0.5199999883770943\n",
      "Total score (averaged over agents) this episode 7: 1.6299999635666609\n",
      "Total score (averaged over agents) this episode 8: 0.9399999789893627\n",
      "Total score (averaged over agents) this episode 9: 1.6799999624490738\n",
      "Total score (averaged over agents) this episode 10: 0.3499999921768904\n",
      "Total score (averaged over agents) this episode 11: 1.6799999624490738\n",
      "Total score (averaged over agents) this episode 12: 3.589999919757247\n",
      "Total score (averaged over agents) this episode 13: 1.269999971613288\n",
      "Total score (averaged over agents) this episode 14: 2.8799999356269836\n",
      "Total score (averaged over agents) this episode 15: 0.8499999810010195\n",
      "Total score (averaged over agents) this episode 16: 1.1399999745190144\n",
      "Total score (averaged over agents) this episode 17: 0.7799999825656414\n",
      "Total score (averaged over agents) this episode 18: 1.459999967366457\n",
      "Total score (averaged over agents) this episode 19: 0.5699999872595072\n",
      "Total score (averaged over agents) this episode 20: 1.1999999731779099\n",
      "Total score (averaged over agents) this episode 21: 0.3499999921768904\n",
      "Total score (averaged over agents) this episode 22: 3.799999915063381\n",
      "Total score (averaged over agents) this episode 23: 1.9999999552965164\n",
      "Total score (averaged over agents) this episode 24: 0.5799999870359898\n",
      "Total score (averaged over agents) this episode 25: 0.4399999901652336\n",
      "Total score (averaged over agents) this episode 26: 1.0199999772012234\n",
      "Total score (averaged over agents) this episode 27: 0.4899999890476465\n",
      "Total score (averaged over agents) this episode 28: 1.4399999678134918\n",
      "Total score (averaged over agents) this episode 29: 0.12999999709427357\n",
      "Total score (averaged over agents) this episode 30: 1.0099999774247408\n",
      "Total score (averaged over agents) this episode 31: 0.18999999575316906\n",
      "Total score (averaged over agents) this episode 32: 0.0\n",
      "Total score (averaged over agents) this episode 33: 0.0\n",
      "Total score (averaged over agents) this episode 34: 0.2799999937415123\n",
      "Total score (averaged over agents) this episode 35: 0.0\n",
      "Total score (averaged over agents) this episode 36: 0.06999999843537807\n",
      "Total score (averaged over agents) this episode 37: 0.07999999821186066\n",
      "Total score (averaged over agents) this episode 38: 1.1299999747425318\n",
      "Total score (averaged over agents) this episode 39: 0.09999999776482582\n",
      "Total score (averaged over agents) this episode 40: 0.2299999948590994\n",
      "Total score (averaged over agents) this episode 41: 0.29999999329447746\n",
      "Total score (averaged over agents) this episode 42: 0.5299999881535769\n",
      "Total score (averaged over agents) this episode 43: 0.8299999814480543\n",
      "Total score (averaged over agents) this episode 44: 1.6699999626725912\n",
      "Total score (averaged over agents) this episode 45: 0.6499999854713678\n",
      "Total score (averaged over agents) this episode 46: 0.11999999731779099\n",
      "Total score (averaged over agents) this episode 47: 0.3899999912828207\n",
      "Total score (averaged over agents) this episode 48: 0.5999999865889549\n",
      "Total score (averaged over agents) this episode 49: 0.1099999975413084\n",
      "Total score (averaged over agents) this episode 50: 1.8599999584257603\n",
      "Total score (averaged over agents) this episode 51: 0.41999999061226845\n",
      "Total score (averaged over agents) this episode 52: 0.46999998949468136\n",
      "Total score (averaged over agents) this episode 53: 0.3299999926239252\n",
      "Total score (averaged over agents) this episode 54: 0.07999999821186066\n",
      "Total score (averaged over agents) this episode 55: 0.8399999812245369\n",
      "Total score (averaged over agents) this episode 56: 0.3799999915063381\n",
      "Total score (averaged over agents) this episode 57: 0.3899999912828207\n",
      "Total score (averaged over agents) this episode 58: 0.5699999872595072\n",
      "Total score (averaged over agents) this episode 59: 0.6999999843537807\n",
      "Total score (averaged over agents) this episode 60: 0.1699999962002039\n",
      "Total score (averaged over agents) this episode 61: 0.05999999865889549\n",
      "Total score (averaged over agents) this episode 62: 0.2299999948590994\n",
      "Total score (averaged over agents) this episode 63: 0.9899999778717756\n"
     ]
    }
   ],
   "source": [
    "\n",
    "episodes = 100\n",
    "\n",
    "for episode in range(episodes): \n",
    "    env_info = env.reset(train_mode=True)[brain_name]     # reset the environment    \n",
    "    states = env_info.vector_observations[0]                  # get the current state (for each agent)\n",
    "    scores = np.zeros(num_agents)                          # initialize the score (for each agent)\n",
    "\n",
    "    while True:\n",
    "        actions = agent.act(states, add_noise = False) # select an action (for each agent)\n",
    "        #print(actions)\n",
    "        #actions = np.clip(actions, -1, 1)                  # all actions between -1 and 1\n",
    "        env_info = env.step(actions)[brain_name]           # send all actions to tne environment\n",
    "        next_states = env_info.vector_observations[0]         # get next state (for each agent)\n",
    "        rewards = env_info.rewards[0]                         # get reward (for each agent)\n",
    "        dones = env_info.local_done[0]                        # see if episode finished\n",
    "        scores += env_info.rewards[0]                         # update the score (for each agent)\n",
    "    \n",
    "        agent.step(states, actions, rewards, next_states, dones)\n",
    "    \n",
    "        states = next_states                               # roll over states to next time step\n",
    "        #if np.any(dones)  or (turn % train_steps == 0):\n",
    "        #    #train now\n",
    "        #    agent.learn()\n",
    "        if np.any(dones):                                  # exit loop if episode finished\n",
    "            break\n",
    "    print('Total score (averaged over agents) this episode {}: {}'.format(episode, np.mean(scores)))"
   ]
  },
  {
   "cell_type": "code",
   "execution_count": null,
   "metadata": {},
   "outputs": [],
   "source": [
    "env.close()"
   ]
  },
  {
   "cell_type": "code",
   "execution_count": null,
   "metadata": {},
   "outputs": [],
   "source": [
    "import matplotlib.pyplot as plt\n",
    "\n",
    "# plot the scores\n",
    "fig = plt.figure(figsize=(16, 12))\n",
    "ax = fig.add_subplot(111)\n",
    "plt.plot(np.arange(len(scores)), scores)\n",
    "plt.xlabel('Episode number')\n",
    "plt.ylabel('Score')\n",
    "plt.show()"
   ]
  }
 ],
 "metadata": {
  "kernelspec": {
   "display_name": "drlnd2",
   "language": "python",
   "name": "drlnd2"
  },
  "language_info": {
   "codemirror_mode": {
    "name": "ipython",
    "version": 3
   },
   "file_extension": ".py",
   "mimetype": "text/x-python",
   "name": "python",
   "nbconvert_exporter": "python",
   "pygments_lexer": "ipython3",
   "version": "3.6.10"
  }
 },
 "nbformat": 4,
 "nbformat_minor": 4
}
